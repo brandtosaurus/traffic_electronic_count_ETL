{
 "cells": [
  {
   "cell_type": "code",
   "execution_count": 22,
   "metadata": {},
   "outputs": [],
   "source": [
    "# import csv\n",
    "# import os\n",
    "import numpy as np\n",
    "import pandas as pd\n",
    "# import gc\n",
    "from datetime import timedelta, date\n",
    "import uuid\n",
    "import traceback\n",
    "import matplotlib\n",
    "\n",
    "# import rsa_data_summary as rd\n",
    "# import rsa_data_wim as wim\n",
    "# import rsa_headers as rh\n",
    "import config\n",
    "import queries as q\n",
    "import tools\n",
    "\n",
    "pd.options.mode.chained_assignment = None\n",
    "pd.set_option(\"display.max_columns\", None)\n",
    "pd.set_option(\"display.max_rows\", 100)\n",
    "\n",
    "import warnings\n",
    "warnings.filterwarnings(\"ignore\")"
   ]
  },
  {
   "cell_type": "code",
   "execution_count": 2,
   "metadata": {},
   "outputs": [],
   "source": [
    "header_id = 'bba9b8bf-9db6-4970-95d3-80f72393af99'\n",
    "select_qry = f\"select * from trafc.electronic_count_data_partitioned_2022 where header_id = '{header_id}';\"\n",
    "SELECT_TYPE10_QRY = f\"\"\"SELECT * FROM trafc.electronic_count_data_type_10 t10\n",
    "            left join traf_lu.vehicle_classes_scheme08 c on c.id = t10.vehicle_class_code_primary_scheme\n",
    "            where t10.header_id = '{header_id}'\n",
    "            \"\"\"\n",
    "AXLE_SPACING_SELECT_QRY = f\"\"\"SELECT \n",
    "            t10.id,\n",
    "            t10.header_id, \n",
    "            t10.start_datetime,\n",
    "            t10.edit_code,\n",
    "            t10.vehicle_class_code_primary_scheme, \n",
    "            t10.vehicle_class_code_secondary_scheme,\n",
    "            t10.direction,\n",
    "            t10.axle_count,\n",
    "            axs.axle_spacing_number,\n",
    "            axs.axle_spacing_cm,\n",
    "            wm.wheel_mass_number,\n",
    "            wm.wheel_mass,\n",
    "            vm.kg as vehicle_mass_limit_kg,\n",
    "            sum(wm.wheel_mass) over(partition by t10.id) as gross_mass\n",
    "            FROM trafc.electronic_count_data_type_10 t10\n",
    "            left join trafc.traffic_e_type10_wheel_mass wm ON wm.type10_id = t10.data_id\n",
    "            left join trafc.traffic_e_type10_axle_spacing axs ON axs.type10_id = t10.data_id and axs.axle_spacing_number = wm.wheel_mass_number\n",
    "            Left join traf_lu.gross_vehicle_mass_limits vm on vm.number_of_axles = t10.axle_count\n",
    "            where t10.header_id = '{header_id}' and wm.wheel_mass_number is not null\n",
    "            \"\"\"\n",
    "WHEEL_MASS_SELECT_QRY = f\"\"\"SELECT \n",
    "            t10.id,\n",
    "            t10.header_id, \n",
    "            t10.start_datetime,\n",
    "            t10.edit_code,\n",
    "            t10.vehicle_class_code_primary_scheme, \n",
    "            t10.vehicle_class_code_secondary_scheme,\n",
    "            t10.direction,\n",
    "            t10.axle_count,\n",
    "            axs.axle_spacing_number,\n",
    "            axs.axle_spacing_cm,\n",
    "            wm.wheel_mass_number,\n",
    "            wm.wheel_mass,\n",
    "            vm.kg as vehicle_mass_limit_kg,\n",
    "            sum(wm.wheel_mass) over(partition by t10.id) as gross_mass\n",
    "            FROM trafc.electronic_count_data_type_10 t10\n",
    "            inner join trafc.traffic_e_type10_wheel_mass wm ON wm.type10_id = t10.data_id\n",
    "            Left join traf_lu.gross_vehicle_mass_limits vm on vm.number_of_axles = t10.axle_count\n",
    "            Left join trafc.traffic_e_type10_axle_spacing axs ON axs.type10_id = t10.data_id\n",
    "            where t10.header_id = '{header_id}'\n",
    "\"\"\""
   ]
  },
  {
   "cell_type": "code",
   "execution_count": 3,
   "metadata": {},
   "outputs": [],
   "source": [
    "# df = pd.read_sql_query(select_qry, config.ENGINE)\n",
    "df_AX = pd.read_sql_query(AXLE_SPACING_SELECT_QRY, config.ENGINE)\n",
    "# df_WM = pd.read_sql_query(WHEEL_MASS_SELECT_QRY, config.ENGINE)"
   ]
  },
  {
   "cell_type": "code",
   "execution_count": null,
   "metadata": {},
   "outputs": [],
   "source": [
    "df_AX.head()"
   ]
  },
  {
   "cell_type": "code",
   "execution_count": 60,
   "metadata": {},
   "outputs": [],
   "source": [
    "mask = df_AX['id'].isin(df_AX.loc[(df_AX['axle_spacing_number'] == 1) & (df_AX['axle_spacing_cm'] <= 220), 'id'].tolist())\n",
    "test_df = df_AX.loc[mask].copy()\n",
    "test_df2 = test_df.loc[test_df.wheel_mass_number <= 2].groupby('id').sum()\n",
    "test_df2.loc[test_df2.wheel_mass > 15000].count()"
   ]
  },
  {
   "cell_type": "code",
   "execution_count": 88,
   "metadata": {},
   "outputs": [],
   "source": [
    "test_df = df_AX.loc[(df_AX['axle_spacing_number'] > 1) & (df_AX['axle_spacing_cm'] <= 220)].copy()"
   ]
  },
  {
   "cell_type": "code",
   "execution_count": 96,
   "metadata": {},
   "outputs": [],
   "source": [
    "test_df = test_df.sort_values(by=['id','wheel_mass_number'])"
   ]
  },
  {
   "cell_type": "code",
   "execution_count": 97,
   "metadata": {},
   "outputs": [],
   "source": [
    "test_df['check'] = test_df[['id','axle_spacing_number']].diff()['id']"
   ]
  },
  {
   "cell_type": "code",
   "execution_count": null,
   "metadata": {},
   "outputs": [],
   "source": [
    "df_AX.loc[(df_AX['axle_spacing_number'] == 1) & (df_AX['axle_spacing_cm'] > 220) & (df_AX['vehicle_class_code_primary_scheme'].isin([4,5]))].sort_values('id')"
   ]
  },
  {
   "cell_type": "code",
   "execution_count": null,
   "metadata": {},
   "outputs": [],
   "source": [
    "test_df.head(20)"
   ]
  },
  {
   "cell_type": "code",
   "execution_count": null,
   "metadata": {},
   "outputs": [],
   "source": [
    "df_AX.loc[(df_AX['axle_spacing_number'] == 2)].groupby(df_AX['vehicle_class_code_primary_scheme'])[['axle_spacing_cm']].mean()"
   ]
  },
  {
   "cell_type": "code",
   "execution_count": null,
   "metadata": {},
   "outputs": [],
   "source": [
    "df_AX.loc[(df_AX['axle_spacing_number'] != 1)].groupby(df_AX['id'])['axle_spacing_cm'].sum()*2.1+18000"
   ]
  },
  {
   "cell_type": "code",
   "execution_count": null,
   "metadata": {},
   "outputs": [],
   "source": [
    "df_AX.loc[(df_AX['vehicle_class_code_primary_scheme'] == 7)].plot.scatter(x='axle_spacing_cm', y='axle_spacing_number')"
   ]
  },
  {
   "cell_type": "code",
   "execution_count": 4,
   "metadata": {},
   "outputs": [],
   "source": [
    "nr_axle_groups = df_AX.loc[df_AX.axle_spacing_cm <= 220].groupby(df_AX.id)['id'].count()\n",
    "nr_axle_groups.name = 'nr_axle_groups'\n",
    "try:\n",
    "    df_AX = df_AX.drop(columns=['nr_axle_groups'])\n",
    "except:\n",
    "    pass\n",
    "df_AX = df_AX.join(nr_axle_groups, on='id')"
   ]
  },
  {
   "cell_type": "code",
   "execution_count": null,
   "metadata": {},
   "outputs": [],
   "source": [
    "df_AX.head()"
   ]
  },
  {
   "cell_type": "code",
   "execution_count": 53,
   "metadata": {},
   "outputs": [
    {
     "data": {
      "text/plain": [
       "816"
      ]
     },
     "execution_count": 53,
     "metadata": {},
     "output_type": "execute_result"
    }
   ],
   "source": [
    "df_AX.loc[(df_AX['vehicle_class_code_primary_scheme'] == 4) & (df_AX['direction'] == 'P')].groupby('id').count().sum()[0]"
   ]
  }
 ],
 "metadata": {
  "kernelspec": {
   "display_name": "Python 3.10.6 64-bit",
   "language": "python",
   "name": "python3"
  },
  "language_info": {
   "codemirror_mode": {
    "name": "ipython",
    "version": 3
   },
   "file_extension": ".py",
   "mimetype": "text/x-python",
   "name": "python",
   "nbconvert_exporter": "python",
   "pygments_lexer": "ipython3",
   "version": "3.10.6"
  },
  "orig_nbformat": 4,
  "vscode": {
   "interpreter": {
    "hash": "b239acf2821489c398a9848859e84ce39b99d30cc4031fb37cc7461da3883639"
   }
  }
 },
 "nbformat": 4,
 "nbformat_minor": 2
}
