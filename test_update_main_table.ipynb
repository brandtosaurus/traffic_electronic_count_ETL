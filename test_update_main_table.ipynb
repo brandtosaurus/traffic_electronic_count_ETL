{
 "cells": [
  {
   "cell_type": "code",
   "execution_count": 1,
   "metadata": {},
   "outputs": [],
   "source": [
    "import csv\n",
    "import os\n",
    "import numpy as np\n",
    "import pandas as pd\n",
    "import gc\n",
    "from datetime import timedelta, date\n",
    "import uuid\n",
    "import traceback\n",
    "\n",
    "import config\n",
    "import queries as q\n",
    "import tools\n",
    "\n",
    "pd.options.mode.chained_assignment = None\n",
    "pd.set_option(\"display.max_columns\", None)\n",
    "pd.set_option(\"display.max_rows\", None)"
   ]
  },
  {
   "cell_type": "code",
   "execution_count": 2,
   "metadata": {},
   "outputs": [],
   "source": [
    "def upd_main_with_t30():\n",
    "    select_qry = \"\"\"\n",
    "    select distinct header_id from trafc.electronic_count_data_partitioned\n",
    "    where light_motor_vehicles is null\n",
    "    ;\n",
    "    \"\"\"\n",
    "\n",
    "    df = pd.read_sql(select_qry, config.ENGINE)\n",
    "    df.dropna(subset=[\"header_id\"], inplace=True)\n",
    "    list = df.header_id.astype(str).to_list()\n",
    "    cs1 = pd.read_sql_query(q.SELECT_CLASSIFICAITON_SCHEME_1, config.ENGINE)\n",
    "    cs5 = pd.read_sql_query(q.SELECT_CLASSIFICAITON_SCHEME_5, config.ENGINE)\n",
    "    cs8 = pd.read_sql_query(q.SELECT_CLASSIFICAITON_SCHEME_8, config.ENGINE)\n",
    "    for header_id in list:\n",
    "        df30 = pd.read_sql(f\"\"\"\n",
    "            select * from trafc.electronic_count_data_type_30 where header_id = '{header_id}';\n",
    "            \"\"\"\n",
    "            , config.ENGINE)\n",
    "        \n",
    "\n",
    "        df30 = df30.groupby(['site_id', 'start_datetime', 'lane_number', 'classification_scheme', 'class_number'])['number_of_vehicles'].sum()\n",
    "\n",
    "        for index, row in df30.iteritems():\n",
    "            site_id = index[0]\n",
    "            start_datetime = index[1]\n",
    "            lane_number = index[2]\n",
    "            classification_scheme = index[3]\n",
    "            class_number = index[4]\n",
    "            number_of_vehicles =  row\n",
    "            if classification_scheme == 1:\n",
    "                update_qry = f\"\"\"\n",
    "                    update trafc.electronic_count_data_partitioned set\n",
    "                    {cs1['vehicle'].at[class_number].lower().replace(to_replace=[\" \",\"-\"],value=\"_\").replace(to_replace=[\",\",\"(\",\")\"],value=\"\")} = {number_of_vehicles}\n",
    "                    where site_id = '{site_id}'\n",
    "                    and start_datetime = '{start_datetime}'\n",
    "                    and lane_number = {lane_number}\n",
    "                    and {cs1['vehicle'].at[class_number].lower().replace(to_replace=[\" \",\"-\"],value=\"_\").replace(to_replace=[\",\",\"(\",\")\"],value=\"\")} is null;\n",
    "                \"\"\"\n",
    "            elif classification_scheme == 5:\n",
    "                update_qry = f\"\"\"\n",
    "                    update trafc.electronic_count_data_partitioned set \n",
    "                    {cs5['vehicle'].at[class_number].lower().replace(to_replace=[\" \",\"-\"],value=\"_\").replace(to_replace=[\",\",\"(\",\")\"],value=\"\")} = {number_of_vehicles}\n",
    "                    where site_id = '{site_id}' \n",
    "                    and start_datetime = '{start_datetime}'\n",
    "                    and lane_number = {lane_number}\n",
    "                    and {cs5['vehicle'].at[class_number].lower().replace(to_replace=[\" \",\"-\"],value=\"_\").replace(to_replace=[\",\",\"(\",\")\"],value=\"\")} is null;            \n",
    "                \"\"\"\n",
    "            elif classification_scheme == 8:\n",
    "                update_qry = f\"\"\"\n",
    "                    update trafc.electronic_count_data_partitioned set \n",
    "                    {cs8['vehicle'].at[class_number].lower().replace(to_replace=[\" \",\"-\"],value=\"_\").replace(to_replace=[\",\",\"(\",\")\"],value=\"\")} = {number_of_vehicles}\n",
    "                    where site_id = '{site_id}' \n",
    "                    and start_datetime = '{start_datetime}'\n",
    "                    and lane_number = {lane_number}\n",
    "                    and {cs8['vehicle'].at[class_number].lower().replace(to_replace=[\" \",\"-\"],value=\"_\").replace(to_replace=[\",\",\"(\",\")\"],value=\"\")} is null;            \n",
    "                \"\"\"\n",
    "            else:\n",
    "                pass\n",
    "            try:\n",
    "                with config.CONN as conn:\n",
    "                    cur = conn.cursor()\n",
    "                    cur.execute(update_qry)\n",
    "                    conn.commit()\n",
    "            except Exception as e:\n",
    "                print(e)\n",
    "                print(update_qry)\n",
    "                traceback.print_exc()\n",
    "                conn.rollback()\n",
    "                conn.close()\n",
    "                gc.collect()\n",
    "                break\n",
    "    print(\"Done\")"
   ]
  },
  {
   "cell_type": "code",
   "execution_count": 3,
   "metadata": {},
   "outputs": [],
   "source": [
    "upd_main_with_t30()"
   ]
  }
 ],
 "metadata": {
  "kernelspec": {
   "display_name": "Python 3.10.3 ('venv': venv)",
   "language": "python",
   "name": "python3"
  },
  "language_info": {
   "codemirror_mode": {
    "name": "ipython",
    "version": 3
   },
   "file_extension": ".py",
   "mimetype": "text/x-python",
   "name": "python",
   "nbconvert_exporter": "python",
   "pygments_lexer": "ipython3",
   "version": "3.10.3"
  },
  "orig_nbformat": 4,
  "vscode": {
   "interpreter": {
    "hash": "0d86798f8e6233a76aa38644d13f9f426c72f43ddd8d5316bb9701fa2c43845d"
   }
  }
 },
 "nbformat": 4,
 "nbformat_minor": 2
}
