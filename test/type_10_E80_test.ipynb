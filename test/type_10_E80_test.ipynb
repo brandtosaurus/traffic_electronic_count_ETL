{
 "cells": [
  {
   "cell_type": "code",
   "execution_count": 1,
   "metadata": {},
   "outputs": [],
   "source": [
    "from datetime import timedelta, datetime\n",
    "import config\n",
    "import uuid\n",
    "from pandasql import sqldf\n",
    "from sqlalchemy.dialects.postgresql import insert\n",
    "import pandas as pd\n",
    "import numpy as np"
   ]
  },
  {
   "cell_type": "code",
   "execution_count": 2,
   "metadata": {},
   "outputs": [],
   "source": [
    "SELECT_TYPE10_QRY = \"\"\"SELECT \n",
    "*\n",
    "FROM trafc.electronic_count_data_type_10 t10\n",
    "left join traf_lu.vehicle_classes_scheme_08 c on c.id = t10.vehicle_class_code_primary_scheme\n",
    "where t10.header_id = 'bad666cb-0815-459a-b0b0-e17172b7ed17'\n",
    "\"\"\""
   ]
  },
  {
   "cell_type": "code",
   "execution_count": 2,
   "metadata": {},
   "outputs": [],
   "source": [
    "AXLE_SPACING_SELECT_QRY = \"\"\"SELECT \n",
    "t10.id,\n",
    "        t10.header_id, \n",
    "        t10.start_datetime,\n",
    "        t10.edit_code,\n",
    "        t10.vehicle_class_code_primary_scheme, \n",
    "        t10.vehicle_class_code_secondary_scheme,\n",
    "        t10.direction,\n",
    "        t10.axle_count,\n",
    "        axs.axle_spacing_number,\n",
    "        axs.axle_spacing_cm\n",
    "        FROM trafc.electronic_count_data_type_10 t10\n",
    "        left join trafc.traffic_e_type10_axle_spacing axs ON axs.type10_id = t10.data_id\n",
    "where t10.header_id = 'bad666cb-0815-459a-b0b0-e17172b7ed17'\n",
    "\"\"\""
   ]
  },
  {
   "cell_type": "code",
   "execution_count": 4,
   "metadata": {},
   "outputs": [],
   "source": [
    "WHEEL_MASS_SELECT_QRY = \"\"\"SELECT \n",
    "t10.id,\n",
    "t10.header_id, \n",
    "t10.start_datetime,\n",
    "t10.edit_code,\n",
    "t10.vehicle_class_code_primary_scheme, \n",
    "t10.vehicle_class_code_secondary_scheme,\n",
    "t10.direction,\n",
    "wm.wheel_mass_number,\n",
    "wm.wheel_mass,\n",
    "vm.kg as vehicle_mass_limit_kg,\n",
    "sum(wm.wheel_mass) over(partition by t10.id) as gross_mass\n",
    "FROM trafc.electronic_count_data_type_10 t10\n",
    "left join trafc.traffic_e_type10_wheel_mass wm ON wm.type10_id = t10.data_id\n",
    "left join traf_lu.gross_vehicle_mass_limits vm on vm.number_of_axles = t10.axle_count\n",
    "where t10.header_id = 'bad666cb-0815-459a-b0b0-e17172b7ed17'\n",
    "\"\"\""
   ]
  },
  {
   "cell_type": "code",
   "execution_count": 95,
   "metadata": {},
   "outputs": [],
   "source": [
    "df = pd.read_sql_query(SELECT_QRY,config.ENGINE)"
   ]
  },
  {
   "cell_type": "code",
   "execution_count": 3,
   "metadata": {},
   "outputs": [],
   "source": [
    "df2 = pd.read_sql_query(AXLE_SPACING_SELECT_QRY,config.ENGINE)"
   ]
  },
  {
   "cell_type": "code",
   "execution_count": 96,
   "metadata": {},
   "outputs": [],
   "source": [
    "df3 = pd.read_sql_query(WHEEL_MASS_SELECT_QRY,config.ENGINE)"
   ]
  },
  {
   "cell_type": "code",
   "execution_count": 6,
   "metadata": {},
   "outputs": [],
   "source": [
    "mean_equivalent_axle_mass_per_class_primary = (df.groupby(['id', 'vehicle_class_code_primary_scheme']).sum()*2).groupby(['vehicle_class_code_primary_scheme']).mean()['wheel_mass'].round(2)\n",
    "mean_equivalent_axle_mass = (df.groupby(pd.Grouper(key='id')).mean()*2).mean().round(2)\n",
    "mean_axle_spacing_number = (df.groupby(pd.Grouper(key='id')).mean()).mean()['axle_spacing_number'].round()\n",
    "number_of_vehicles_per_class_primary = df2.groupby(['vehicle_class_code_primary_scheme']).count()['id']\n"
   ]
  },
  {
   "cell_type": "code",
   "execution_count": 22,
   "metadata": {},
   "outputs": [],
   "source": [
    "df3['e80_per_axle'] = (df3['wheel_mass']/8200)**4.2"
   ]
  },
  {
   "cell_type": "code",
   "execution_count": 33,
   "metadata": {},
   "outputs": [
    {
     "data": {
      "text/plain": [
       "81.25"
      ]
     },
     "execution_count": 33,
     "metadata": {},
     "output_type": "execute_result"
    }
   ],
   "source": [
    "(df3.groupby(['id']).sum().mean()['e80_per_axle']*100).round(2)"
   ]
  },
  {
   "cell_type": "code",
   "execution_count": 99,
   "metadata": {},
   "outputs": [
    {
     "data": {
      "text/html": [
       "<div>\n",
       "<style scoped>\n",
       "    .dataframe tbody tr th:only-of-type {\n",
       "        vertical-align: middle;\n",
       "    }\n",
       "\n",
       "    .dataframe tbody tr th {\n",
       "        vertical-align: top;\n",
       "    }\n",
       "\n",
       "    .dataframe thead th {\n",
       "        text-align: right;\n",
       "    }\n",
       "</style>\n",
       "<table border=\"1\" class=\"dataframe\">\n",
       "  <thead>\n",
       "    <tr style=\"text-align: right;\">\n",
       "      <th></th>\n",
       "      <th>id</th>\n",
       "      <th>header_id</th>\n",
       "      <th>start_datetime</th>\n",
       "      <th>edit_code</th>\n",
       "      <th>vehicle_class_code_primary_scheme</th>\n",
       "      <th>vehicle_class_code_secondary_scheme</th>\n",
       "      <th>direction</th>\n",
       "      <th>wheel_mass_number</th>\n",
       "      <th>wheel_mass</th>\n",
       "      <th>vehicle_mass_limit_kg</th>\n",
       "      <th>gross_mass</th>\n",
       "    </tr>\n",
       "  </thead>\n",
       "  <tbody>\n",
       "    <tr>\n",
       "      <th>0</th>\n",
       "      <td>50274702</td>\n",
       "      <td>bad666cb-0815-459a-b0b0-e17172b7ed17</td>\n",
       "      <td>2021-12-01 00:00:20.500</td>\n",
       "      <td>None</td>\n",
       "      <td>16</td>\n",
       "      <td>4</td>\n",
       "      <td>P</td>\n",
       "      <td>1.0</td>\n",
       "      <td>4341.0</td>\n",
       "      <td>56000.0</td>\n",
       "      <td>31791.0</td>\n",
       "    </tr>\n",
       "    <tr>\n",
       "      <th>1</th>\n",
       "      <td>50274702</td>\n",
       "      <td>bad666cb-0815-459a-b0b0-e17172b7ed17</td>\n",
       "      <td>2021-12-01 00:00:20.500</td>\n",
       "      <td>None</td>\n",
       "      <td>16</td>\n",
       "      <td>4</td>\n",
       "      <td>P</td>\n",
       "      <td>4.0</td>\n",
       "      <td>4298.0</td>\n",
       "      <td>56000.0</td>\n",
       "      <td>31791.0</td>\n",
       "    </tr>\n",
       "    <tr>\n",
       "      <th>2</th>\n",
       "      <td>50274702</td>\n",
       "      <td>bad666cb-0815-459a-b0b0-e17172b7ed17</td>\n",
       "      <td>2021-12-01 00:00:20.500</td>\n",
       "      <td>None</td>\n",
       "      <td>16</td>\n",
       "      <td>4</td>\n",
       "      <td>P</td>\n",
       "      <td>3.0</td>\n",
       "      <td>4544.0</td>\n",
       "      <td>56000.0</td>\n",
       "      <td>31791.0</td>\n",
       "    </tr>\n",
       "    <tr>\n",
       "      <th>3</th>\n",
       "      <td>50274702</td>\n",
       "      <td>bad666cb-0815-459a-b0b0-e17172b7ed17</td>\n",
       "      <td>2021-12-01 00:00:20.500</td>\n",
       "      <td>None</td>\n",
       "      <td>16</td>\n",
       "      <td>4</td>\n",
       "      <td>P</td>\n",
       "      <td>5.0</td>\n",
       "      <td>4529.0</td>\n",
       "      <td>56000.0</td>\n",
       "      <td>31791.0</td>\n",
       "    </tr>\n",
       "    <tr>\n",
       "      <th>4</th>\n",
       "      <td>50274702</td>\n",
       "      <td>bad666cb-0815-459a-b0b0-e17172b7ed17</td>\n",
       "      <td>2021-12-01 00:00:20.500</td>\n",
       "      <td>None</td>\n",
       "      <td>16</td>\n",
       "      <td>4</td>\n",
       "      <td>P</td>\n",
       "      <td>6.0</td>\n",
       "      <td>4457.0</td>\n",
       "      <td>56000.0</td>\n",
       "      <td>31791.0</td>\n",
       "    </tr>\n",
       "    <tr>\n",
       "      <th>...</th>\n",
       "      <td>...</td>\n",
       "      <td>...</td>\n",
       "      <td>...</td>\n",
       "      <td>...</td>\n",
       "      <td>...</td>\n",
       "      <td>...</td>\n",
       "      <td>...</td>\n",
       "      <td>...</td>\n",
       "      <td>...</td>\n",
       "      <td>...</td>\n",
       "      <td>...</td>\n",
       "    </tr>\n",
       "    <tr>\n",
       "      <th>279969</th>\n",
       "      <td>50412134</td>\n",
       "      <td>bad666cb-0815-459a-b0b0-e17172b7ed17</td>\n",
       "      <td>2021-12-31 23:59:21.400</td>\n",
       "      <td>None</td>\n",
       "      <td>16</td>\n",
       "      <td>4</td>\n",
       "      <td>P</td>\n",
       "      <td>3.0</td>\n",
       "      <td>5614.0</td>\n",
       "      <td>56000.0</td>\n",
       "      <td>37086.0</td>\n",
       "    </tr>\n",
       "    <tr>\n",
       "      <th>279970</th>\n",
       "      <td>50412134</td>\n",
       "      <td>bad666cb-0815-459a-b0b0-e17172b7ed17</td>\n",
       "      <td>2021-12-31 23:59:21.400</td>\n",
       "      <td>None</td>\n",
       "      <td>16</td>\n",
       "      <td>4</td>\n",
       "      <td>P</td>\n",
       "      <td>2.0</td>\n",
       "      <td>5513.0</td>\n",
       "      <td>56000.0</td>\n",
       "      <td>37086.0</td>\n",
       "    </tr>\n",
       "    <tr>\n",
       "      <th>279971</th>\n",
       "      <td>50412134</td>\n",
       "      <td>bad666cb-0815-459a-b0b0-e17172b7ed17</td>\n",
       "      <td>2021-12-31 23:59:21.400</td>\n",
       "      <td>None</td>\n",
       "      <td>16</td>\n",
       "      <td>4</td>\n",
       "      <td>P</td>\n",
       "      <td>7.0</td>\n",
       "      <td>4558.0</td>\n",
       "      <td>56000.0</td>\n",
       "      <td>37086.0</td>\n",
       "    </tr>\n",
       "    <tr>\n",
       "      <th>279972</th>\n",
       "      <td>50412134</td>\n",
       "      <td>bad666cb-0815-459a-b0b0-e17172b7ed17</td>\n",
       "      <td>2021-12-31 23:59:21.400</td>\n",
       "      <td>None</td>\n",
       "      <td>16</td>\n",
       "      <td>4</td>\n",
       "      <td>P</td>\n",
       "      <td>6.0</td>\n",
       "      <td>5354.0</td>\n",
       "      <td>56000.0</td>\n",
       "      <td>37086.0</td>\n",
       "    </tr>\n",
       "    <tr>\n",
       "      <th>279973</th>\n",
       "      <td>50412134</td>\n",
       "      <td>bad666cb-0815-459a-b0b0-e17172b7ed17</td>\n",
       "      <td>2021-12-31 23:59:21.400</td>\n",
       "      <td>None</td>\n",
       "      <td>16</td>\n",
       "      <td>4</td>\n",
       "      <td>P</td>\n",
       "      <td>1.0</td>\n",
       "      <td>4630.0</td>\n",
       "      <td>56000.0</td>\n",
       "      <td>37086.0</td>\n",
       "    </tr>\n",
       "  </tbody>\n",
       "</table>\n",
       "<p>279974 rows × 11 columns</p>\n",
       "</div>"
      ],
      "text/plain": [
       "              id                             header_id  \\\n",
       "0       50274702  bad666cb-0815-459a-b0b0-e17172b7ed17   \n",
       "1       50274702  bad666cb-0815-459a-b0b0-e17172b7ed17   \n",
       "2       50274702  bad666cb-0815-459a-b0b0-e17172b7ed17   \n",
       "3       50274702  bad666cb-0815-459a-b0b0-e17172b7ed17   \n",
       "4       50274702  bad666cb-0815-459a-b0b0-e17172b7ed17   \n",
       "...          ...                                   ...   \n",
       "279969  50412134  bad666cb-0815-459a-b0b0-e17172b7ed17   \n",
       "279970  50412134  bad666cb-0815-459a-b0b0-e17172b7ed17   \n",
       "279971  50412134  bad666cb-0815-459a-b0b0-e17172b7ed17   \n",
       "279972  50412134  bad666cb-0815-459a-b0b0-e17172b7ed17   \n",
       "279973  50412134  bad666cb-0815-459a-b0b0-e17172b7ed17   \n",
       "\n",
       "                start_datetime edit_code  vehicle_class_code_primary_scheme  \\\n",
       "0      2021-12-01 00:00:20.500      None                                 16   \n",
       "1      2021-12-01 00:00:20.500      None                                 16   \n",
       "2      2021-12-01 00:00:20.500      None                                 16   \n",
       "3      2021-12-01 00:00:20.500      None                                 16   \n",
       "4      2021-12-01 00:00:20.500      None                                 16   \n",
       "...                        ...       ...                                ...   \n",
       "279969 2021-12-31 23:59:21.400      None                                 16   \n",
       "279970 2021-12-31 23:59:21.400      None                                 16   \n",
       "279971 2021-12-31 23:59:21.400      None                                 16   \n",
       "279972 2021-12-31 23:59:21.400      None                                 16   \n",
       "279973 2021-12-31 23:59:21.400      None                                 16   \n",
       "\n",
       "        vehicle_class_code_secondary_scheme direction  wheel_mass_number  \\\n",
       "0                                         4         P                1.0   \n",
       "1                                         4         P                4.0   \n",
       "2                                         4         P                3.0   \n",
       "3                                         4         P                5.0   \n",
       "4                                         4         P                6.0   \n",
       "...                                     ...       ...                ...   \n",
       "279969                                    4         P                3.0   \n",
       "279970                                    4         P                2.0   \n",
       "279971                                    4         P                7.0   \n",
       "279972                                    4         P                6.0   \n",
       "279973                                    4         P                1.0   \n",
       "\n",
       "        wheel_mass  vehicle_mass_limit_kg  gross_mass  \n",
       "0           4341.0                56000.0     31791.0  \n",
       "1           4298.0                56000.0     31791.0  \n",
       "2           4544.0                56000.0     31791.0  \n",
       "3           4529.0                56000.0     31791.0  \n",
       "4           4457.0                56000.0     31791.0  \n",
       "...            ...                    ...         ...  \n",
       "279969      5614.0                56000.0     37086.0  \n",
       "279970      5513.0                56000.0     37086.0  \n",
       "279971      4558.0                56000.0     37086.0  \n",
       "279972      5354.0                56000.0     37086.0  \n",
       "279973      4630.0                56000.0     37086.0  \n",
       "\n",
       "[279974 rows x 11 columns]"
      ]
     },
     "execution_count": 99,
     "metadata": {},
     "output_type": "execute_result"
    }
   ],
   "source": [
    "df3"
   ]
  },
  {
   "cell_type": "code",
   "execution_count": 93,
   "metadata": {},
   "outputs": [
    {
     "data": {
      "text/plain": [
       "17.33"
      ]
     },
     "execution_count": 93,
     "metadata": {},
     "output_type": "execute_result"
    }
   ],
   "source": [
    "((((df3.loc[(df3['vehicle_class_code_primary_scheme']>3)&(df3['direction']=='N')]['wheel_mass']/8200)**4.2).sum().round()/df3.loc[(df3['vehicle_class_code_primary_scheme']>3)&(df3['direction']=='N')].count()[0])*100).round(2)"
   ]
  },
  {
   "cell_type": "code",
   "execution_count": 77,
   "metadata": {},
   "outputs": [
    {
     "data": {
      "text/plain": [
       "5.86"
      ]
     },
     "execution_count": 77,
     "metadata": {},
     "output_type": "execute_result"
    }
   ],
   "source": [
    "((((df3.loc[(df3['gross_mass']>df3['vehicle_mass_limit_kg'])]['wheel_mass']/8200)**4.2).sum().round()/((df3['wheel_mass']/8200)**4.2).sum().round())*100).round(2)"
   ]
  },
  {
   "cell_type": "code",
   "execution_count": 19,
   "metadata": {},
   "outputs": [
    {
     "data": {
      "text/plain": [
       "59502"
      ]
     },
     "execution_count": 19,
     "metadata": {},
     "output_type": "execute_result"
    }
   ],
   "source": [
    "df2.groupby(pd.Grouper(key='id')).count().count()[0]"
   ]
  }
 ],
 "metadata": {
  "kernelspec": {
   "display_name": "Python 3.10.3 ('venv': venv)",
   "language": "python",
   "name": "python3"
  },
  "language_info": {
   "codemirror_mode": {
    "name": "ipython",
    "version": 3
   },
   "file_extension": ".py",
   "mimetype": "text/x-python",
   "name": "python",
   "nbconvert_exporter": "python",
   "pygments_lexer": "ipython3",
   "version": "3.10.3"
  },
  "orig_nbformat": 4,
  "vscode": {
   "interpreter": {
    "hash": "0d86798f8e6233a76aa38644d13f9f426c72f43ddd8d5316bb9701fa2c43845d"
   }
  }
 },
 "nbformat": 4,
 "nbformat_minor": 2
}
