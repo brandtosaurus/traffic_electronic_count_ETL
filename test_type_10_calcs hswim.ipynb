{
 "cells": [
  {
   "cell_type": "code",
   "execution_count": 2,
   "metadata": {},
   "outputs": [],
   "source": [
    "from datetime import timedelta, datetime\n",
    "import rsa_headers as rh\n",
    "import rsa_data_summary as rd\n",
    "# import main\n",
    "import config\n",
    "import queries\n",
    "import uuid\n",
    "from pandasql import sqldf\n",
    "from sqlalchemy.dialects.postgresql import insert\n",
    "\n",
    "files = r\"C:\\Users\\MB27{}5851\\Desktop\\Temp\\rsa_traffic_counts\\SMEC RSA Files_GP PRM Sites_Dec21toFeb22\\{}337_2{}22{}131.RSA\"\n",
    "import pandas as pd\n",
    "import numpy as np\n",
    "pd.set_option(\"display.max_columns\", None)\n",
    "\n",
    "testfile = r\"C:\\Users\\MB2705851\\Desktop\\Temp\\SYNTELL-test.csv\""
   ]
  },
  {
   "cell_type": "code",
   "execution_count": 3,
   "metadata": {},
   "outputs": [],
   "source": [
    "GET_HSWIM_HEADER_IDS = \"\"\"SELECT DISTINCT header_id from trafc.electronic_count_data_type_10 t10 \n",
    "    where not exists (select header_id from trafc.electronic_count_header_hswim h where h.header_id = t10.header_id)\n",
    "    and \n",
    "    (\n",
    "        exists (select header_id from trafc.traffic_e_type10_wheel_mass m where m.type10_id = t10.data_id)\n",
    "        or\n",
    "        exists (select header_id from trafc.traffic_e_type10_axle_group_mass m where m.type10_id = t10.data_id)\n",
    "        or\n",
    "        exists (select header_id from trafc.traffic_e_type10_axle_mass m where m.type10_id = t10.data_id)\n",
    "    )\n",
    "    ;\"\"\"\n",
    "\n",
    "HEADER_COLUMNS_QRY = \"\"\"select * from trafc.electronic_count_header limit 1\"\"\""
   ]
  },
  {
   "cell_type": "code",
   "execution_count": 4,
   "metadata": {},
   "outputs": [],
   "source": [
    "header_columns = list(pd.read_sql_query(HEADER_COLUMNS_QRY,config.ENGINE).columns)"
   ]
  },
  {
   "cell_type": "code",
   "execution_count": 5,
   "metadata": {},
   "outputs": [],
   "source": [
    "header_id = '534c87d9-aceb-4ccb-851e-2e7f7b101969'"
   ]
  },
  {
   "cell_type": "code",
   "execution_count": 19,
   "metadata": {},
   "outputs": [],
   "source": [
    "header = pd.read_sql_query(f\"select * from trafc.electronic_count_header where header_id = '{header_id}';\", config.ENGINE)"
   ]
  },
  {
   "cell_type": "code",
   "execution_count": 24,
   "metadata": {},
   "outputs": [],
   "source": [
    "pri_scheme = header['type_10_vehicle_classification_scheme_primary'][0]\n",
    "sec_scheme = header['type_10_vehicle_classification_scheme_secondary'][0]"
   ]
  },
  {
   "cell_type": "code",
   "execution_count": 75,
   "metadata": {},
   "outputs": [],
   "source": [
    "def wim_stations_header_insert_qrys(header_id):\n",
    "    SELECT_TYPE10_QRY = f\"\"\"SELECT * FROM trafc.electronic_count_data_type_10 t10\n",
    "        -- left join traf_lu.vehicle_classes_scheme08 c on c.id = t10.vehicle_class_code_primary_scheme\n",
    "        where t10.header_id = '{header_id}'\n",
    "        \"\"\"\n",
    "    AXLE_SPACING_SELECT_QRY = f\"\"\"SELECT \n",
    "        t10.id,\n",
    "        t10.header_id, \n",
    "        t10.start_datetime,\n",
    "        t10.edit_code,\n",
    "        t10.vehicle_class_code_primary_scheme, \n",
    "        t10.vehicle_class_code_secondary_scheme,\n",
    "        t10.direction,\n",
    "        t10.axle_count,\n",
    "        axs.axle_spacing_number,\n",
    "        axs.axle_spacing_cm\n",
    "        FROM trafc.electronic_count_data_type_10 t10\n",
    "        inner join trafc.traffic_e_type10_axle_spacing axs ON axs.type10_id = t10.data_id\n",
    "        where t10.header_id = '{header_id}'\n",
    "        \"\"\"\n",
    "    WHEEL_MASS_SELECT_QRY = f\"\"\"SELECT \n",
    "        t10.id,\n",
    "        t10.header_id, \n",
    "        t10.start_datetime,\n",
    "        t10.edit_code,\n",
    "        t10.vehicle_class_code_primary_scheme, \n",
    "        t10.vehicle_class_code_secondary_scheme,\n",
    "        t10.direction,\n",
    "        t10.axle_count,\n",
    "        wm.wheel_mass_number,\n",
    "        wm.wheel_mass,\n",
    "        vm.kg as vehicle_mass_limit_kg,\n",
    "        sum(wm.wheel_mass*2) over(partition by t10.id) as gross_mass\n",
    "        FROM trafc.electronic_count_data_type_10 t10\n",
    "        inner join trafc.traffic_e_type10_wheel_mass wm ON wm.type10_id = t10.data_id\n",
    "        inner join traf_lu.gross_vehicle_mass_limits vm on vm.number_of_axles = t10.axle_count\n",
    "        where t10.header_id = '{header_id}'\n",
    "        \"\"\"\n",
    "    return SELECT_TYPE10_QRY, AXLE_SPACING_SELECT_QRY, WHEEL_MASS_SELECT_QRY"
   ]
  },
  {
   "cell_type": "code",
   "execution_count": 76,
   "metadata": {},
   "outputs": [],
   "source": [
    "SELECT_TYPE10_QRY, AXLE_SPACING_SELECT_QRY, WHEEL_MASS_SELECT_QRY = wim_stations_header_insert_qrys(header_id)"
   ]
  },
  {
   "cell_type": "code",
   "execution_count": 77,
   "metadata": {},
   "outputs": [],
   "source": [
    "def wim_stations_header_insert_dfs(SELECT_TYPE10_QRY, AXLE_SPACING_SELECT_QRY, WHEEL_MASS_SELECT_QRY):\n",
    "    df = pd.read_sql_query(SELECT_TYPE10_QRY,config.ENGINE)\n",
    "    df = df.fillna(0)\n",
    "    df2 = pd.read_sql_query(AXLE_SPACING_SELECT_QRY,config.ENGINE)\n",
    "    df2 = df2.fillna(0)\n",
    "    df3 = pd.read_sql_query(WHEEL_MASS_SELECT_QRY,config.ENGINE)\n",
    "    df3 = df3.fillna(0)\n",
    "    return df, df2, df3"
   ]
  },
  {
   "cell_type": "code",
   "execution_count": 78,
   "metadata": {},
   "outputs": [],
   "source": [
    "df, df2, df3 = wim_stations_header_insert_dfs(SELECT_TYPE10_QRY, AXLE_SPACING_SELECT_QRY, WHEEL_MASS_SELECT_QRY)"
   ]
  },
  {
   "cell_type": "code",
   "execution_count": 10,
   "metadata": {},
   "outputs": [],
   "source": [
    "GVML = pd.read_sql_query(queries.GET_GROSS_VEHICLE_MASS_LIMITS, config.ENGINE)\n",
    "AXLL = pd.read_sql_query(queries.GET_AXLE_LOAD_LIMITS, config.ENGINE)"
   ]
  },
  {
   "cell_type": "code",
   "execution_count": 90,
   "metadata": {},
   "outputs": [],
   "source": [
    "if df['vehicle_class_code_secondary_scheme'].unique() is None:\n",
    "    scheme = len(df['vehicle_class_code_primary_scheme'].unique())\n",
    "    col_name = 'vehicle_class_code_primary_scheme'\n",
    "else: \n",
    "    scheme = len(df['vehicle_class_code_secondary_scheme'].unique())\n",
    "    col_name = 'vehicle_class_code_secondary_scheme'"
   ]
  },
  {
   "cell_type": "code",
   "execution_count": 87,
   "metadata": {},
   "outputs": [],
   "source": [
    "if scheme in [16,17]:\n",
    "    scheme_tbl = pd.read_sql_table(table_name='vehicle_classes_scheme08',schema='traf_lu', con=config.ENGINE)\n",
    "elif scheme in [4,5]:\n",
    "    scheme_tbl = pd.read_sql_table(table_name='vehicle_classes_scheme05',schema='traf_lu', con=config.ENGINE)\n",
    "elif scheme in [2,3]:\n",
    "    scheme_tbl = pd.read_sql_table(table_name='vehicle_classes_scheme01',schema='traf_lu', con=config.ENGINE)"
   ]
  },
  {
   "cell_type": "code",
   "execution_count": 91,
   "metadata": {},
   "outputs": [],
   "source": [
    "scheme_tbl = scheme_tbl.rename(columns={'id':col_name})"
   ]
  },
  {
   "cell_type": "code",
   "execution_count": 93,
   "metadata": {},
   "outputs": [],
   "source": [
    "df = pd.merge(df,scheme_tbl, on=col_name, how='outer')\n",
    "# df.head()"
   ]
  },
  {
   "cell_type": "code",
   "execution_count": null,
   "metadata": {},
   "outputs": [],
   "source": []
  },
  {
   "cell_type": "code",
   "execution_count": 54,
   "metadata": {},
   "outputs": [
    {
     "name": "stdout",
     "output_type": "stream",
     "text": [
      "COMPLETE\n",
      "COMPLETE\n",
      "COMPLETE\n",
      "COMPLETE\n"
     ]
    }
   ],
   "source": [
    "for header_id in list(header_ids['header_id'].astype(str)):\n",
    "    SELECT_TYPE10_QRY, AXLE_SPACING_SELECT_QRY, WHEEL_MASS_SELECT_QRY = wim_stations_header_insert_qrys(header_id)\n",
    "    df, df2, df3 = wim_stations_header_insert_dfs(SELECT_TYPE10_QRY, AXLE_SPACING_SELECT_QRY, WHEEL_MASS_SELECT_QRY)\n",
    "    if df2 is None or df3 is None:\n",
    "        pass\n",
    "    else:\n",
    "        insert_string = wim_stations_header_insert(header_id, df, df2, df3)\n",
    "        with config.ENGINE.connect() as conn:\n",
    "            conn.execute(insert_string)\n",
    "            print('COMPLETE')"
   ]
  },
  {
   "cell_type": "code",
   "execution_count": 39,
   "metadata": {},
   "outputs": [
    {
     "data": {
      "text/plain": [
       "38640"
      ]
     },
     "execution_count": 39,
     "metadata": {},
     "output_type": "execute_result"
    }
   ],
   "source": [
    "df.loc[(df['group']=='Heavy')&(df['direction']=='N')].count()[0]"
   ]
  },
  {
   "cell_type": "code",
   "execution_count": 44,
   "metadata": {},
   "outputs": [
    {
     "data": {
      "text/plain": [
       "20.67"
      ]
     },
     "execution_count": 44,
     "metadata": {},
     "output_type": "execute_result"
    }
   ],
   "source": [
    "round(((df3.loc[df3['direction']=='N']['wheel_mass']*2).sum()/1000)/df.loc[df['group']=='Heavy'].count()[0],2)"
   ]
  }
 ],
 "metadata": {
  "kernelspec": {
   "display_name": "Python 3.10.3 ('venv': venv)",
   "language": "python",
   "name": "python3"
  },
  "language_info": {
   "codemirror_mode": {
    "name": "ipython",
    "version": 3
   },
   "file_extension": ".py",
   "mimetype": "text/x-python",
   "name": "python",
   "nbconvert_exporter": "python",
   "pygments_lexer": "ipython3",
   "version": "3.10.3"
  },
  "orig_nbformat": 4,
  "vscode": {
   "interpreter": {
    "hash": "0d86798f8e6233a76aa38644d13f9f426c72f43ddd8d5316bb9701fa2c43845d"
   }
  }
 },
 "nbformat": 4,
 "nbformat_minor": 2
}
